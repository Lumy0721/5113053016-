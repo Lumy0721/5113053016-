{
  "cells": [
    {
      "cell_type": "code",
      "execution_count": 3,
      "metadata": {
        "id": "LqVI9k1NLvYs"
      },
      "outputs": [],
      "source": [
        "# Multi-language Online Handwriting Recognition - TensorFlow Implementation (Simplified Core)\n",
        "\n",
        "import numpy as np\n",
        "import tensorflow as tf\n",
        "from tensorflow.keras import layers, models\n",
        "\n",
        "# --------------------------\n",
        "# 1. Feature Extraction\n",
        "# --------------------------\n",
        "def extract_features(strokes, num_bins=10):\n",
        "    # strokes: List of stroke, each stroke is a list of (x, y, t)\n",
        "    point_features = []\n",
        "    for stroke in strokes:\n",
        "        for i in range(1, len(stroke)):\n",
        "            x0, y0, t0 = stroke[i - 1]\n",
        "            x1, y1, t1 = stroke[i]\n",
        "            dx = x1 - x0\n",
        "            dy = y1 - y0\n",
        "            dt = t1 - t0 + 1e-5\n",
        "            velocity = np.sqrt(dx**2 + dy**2) / dt\n",
        "            angle = np.arctan2(dy, dx)\n",
        "            point_features.append([dx, dy, velocity, angle])\n",
        "\n",
        "    point_features = np.array(point_features)\n",
        "    if len(point_features) == 0:\n",
        "        return np.zeros(num_bins * 4)  # 4 features\n",
        "\n",
        "    # Convert to histogram features\n",
        "    features = []\n",
        "    for i in range(point_features.shape[1]):\n",
        "        hist, _ = np.histogram(point_features[:, i], bins=num_bins, range=(np.min(point_features[:, i]), np.max(point_features[:, i])+1e-5))\n",
        "        hist = np.sqrt(hist / (np.sum(hist) + 1e-5))\n",
        "        features.extend(hist)\n",
        "    return np.array(features)"
      ]
    },
    {
      "cell_type": "code",
      "execution_count": 4,
      "metadata": {
        "id": "UILXqBslvst4"
      },
      "outputs": [],
      "source": [
        "# --------------------------\n",
        "# 2. Character Classifier\n",
        "# --------------------------\n",
        "def build_char_classifier(input_dim, num_classes):\n",
        "    model = models.Sequential([\n",
        "        layers.Input(shape=(input_dim,)),\n",
        "        layers.Dense(1024, activation='tanh'),\n",
        "        layers.Dense(num_classes, activation='softmax')\n",
        "    ])\n",
        "    model.compile(optimizer='adam',\n",
        "                  loss='sparse_categorical_crossentropy',\n",
        "                  metrics=['accuracy'])\n",
        "    return model"
      ]
    },
    {
      "cell_type": "code",
      "execution_count": 5,
      "metadata": {
        "id": "yAuq3rHSvwA_"
      },
      "outputs": [],
      "source": [
        "# --------------------------\n",
        "# 3. Simulated Data Example\n",
        "# --------------------------\n",
        "# Generate dummy data for demonstration\n",
        "num_classes = 26  # A-Z\n",
        "num_samples = 500\n",
        "input_dim = 40  # 4 features x 10 bins\n",
        "X = np.random.rand(num_samples, input_dim)\n",
        "y = np.random.randint(0, num_classes, size=(num_samples,))"
      ]
    },
    {
      "cell_type": "code",
      "execution_count": 6,
      "metadata": {
        "colab": {
          "base_uri": "https://localhost:8080/"
        },
        "id": "16Hedi3NvzLw",
        "outputId": "ade39b2f-b1b4-41f6-d023-e85de4d61dd4"
      },
      "outputs": [
        {
          "name": "stdout",
          "output_type": "stream",
          "text": [
            "Epoch 1/10\n",
            "\u001b[1m15/15\u001b[0m \u001b[32m━━━━━━━━━━━━━━━━━━━━\u001b[0m\u001b[37m\u001b[0m \u001b[1m1s\u001b[0m 20ms/step - accuracy: 0.0448 - loss: 3.3253 - val_accuracy: 0.0200 - val_loss: 3.5210\n",
            "Epoch 2/10\n",
            "\u001b[1m15/15\u001b[0m \u001b[32m━━━━━━━━━━━━━━━━━━━━\u001b[0m\u001b[37m\u001b[0m \u001b[1m0s\u001b[0m 10ms/step - accuracy: 0.0588 - loss: 3.2086 - val_accuracy: 0.0200 - val_loss: 3.4672\n",
            "Epoch 3/10\n",
            "\u001b[1m15/15\u001b[0m \u001b[32m━━━━━━━━━━━━━━━━━━━━\u001b[0m\u001b[37m\u001b[0m \u001b[1m0s\u001b[0m 7ms/step - accuracy: 0.0741 - loss: 3.0951 - val_accuracy: 0.0200 - val_loss: 3.5183\n",
            "Epoch 4/10\n",
            "\u001b[1m15/15\u001b[0m \u001b[32m━━━━━━━━━━━━━━━━━━━━\u001b[0m\u001b[37m\u001b[0m \u001b[1m0s\u001b[0m 7ms/step - accuracy: 0.1223 - loss: 3.0680 - val_accuracy: 0.0400 - val_loss: 3.4918\n",
            "Epoch 5/10\n",
            "\u001b[1m15/15\u001b[0m \u001b[32m━━━━━━━━━━━━━━━━━━━━\u001b[0m\u001b[37m\u001b[0m \u001b[1m0s\u001b[0m 10ms/step - accuracy: 0.1376 - loss: 3.0109 - val_accuracy: 0.0400 - val_loss: 3.5559\n",
            "Epoch 6/10\n",
            "\u001b[1m15/15\u001b[0m \u001b[32m━━━━━━━━━━━━━━━━━━━━\u001b[0m\u001b[37m\u001b[0m \u001b[1m0s\u001b[0m 7ms/step - accuracy: 0.1474 - loss: 2.9747 - val_accuracy: 0.0400 - val_loss: 3.5618\n",
            "Epoch 7/10\n",
            "\u001b[1m15/15\u001b[0m \u001b[32m━━━━━━━━━━━━━━━━━━━━\u001b[0m\u001b[37m\u001b[0m \u001b[1m0s\u001b[0m 7ms/step - accuracy: 0.1753 - loss: 2.9096 - val_accuracy: 0.0400 - val_loss: 3.5906\n",
            "Epoch 8/10\n",
            "\u001b[1m15/15\u001b[0m \u001b[32m━━━━━━━━━━━━━━━━━━━━\u001b[0m\u001b[37m\u001b[0m \u001b[1m0s\u001b[0m 7ms/step - accuracy: 0.2093 - loss: 2.8322 - val_accuracy: 0.0400 - val_loss: 3.5857\n",
            "Epoch 9/10\n",
            "\u001b[1m15/15\u001b[0m \u001b[32m━━━━━━━━━━━━━━━━━━━━\u001b[0m\u001b[37m\u001b[0m \u001b[1m0s\u001b[0m 10ms/step - accuracy: 0.2255 - loss: 2.8001 - val_accuracy: 0.0600 - val_loss: 3.5834\n",
            "Epoch 10/10\n",
            "\u001b[1m15/15\u001b[0m \u001b[32m━━━━━━━━━━━━━━━━━━━━\u001b[0m\u001b[37m\u001b[0m \u001b[1m0s\u001b[0m 7ms/step - accuracy: 0.2596 - loss: 2.7466 - val_accuracy: 0.0400 - val_loss: 3.5712\n",
            "\u001b[1m1/1\u001b[0m \u001b[32m━━━━━━━━━━━━━━━━━━━━\u001b[0m\u001b[37m\u001b[0m \u001b[1m0s\u001b[0m 64ms/step\n",
            "Predicted Character: W\n"
          ]
        }
      ],
      "source": [
        "# --------------------------\n",
        "# 4. Train Model\n",
        "# --------------------------\n",
        "model = build_char_classifier(input_dim=input_dim, num_classes=num_classes)\n",
        "model.fit(X, y, epochs=10, batch_size=32, validation_split=0.1)\n",
        "\n",
        "# --------------------------\n",
        "# 5. Prediction (example)\n",
        "# --------------------------\n",
        "def predict_character(stroke_data):\n",
        "    features = extract_features(stroke_data)\n",
        "    features = features.reshape(1, -1)\n",
        "    prediction = model.predict(features)\n",
        "    class_id = np.argmax(prediction)\n",
        "    return chr(65 + class_id)  # A-Z\n",
        "\n",
        "# Example stroke input: a simple diagonal stroke from (0,0) to (5,5)\n",
        "stroke_input = [[(0, 0, 0), (1, 1, 1), (2, 2, 2), (3, 3, 3), (4, 4, 4), (5, 5, 5)]]\n",
        "print(\"Predicted Character:\", predict_character(stroke_input))\n"
      ]
    },
    {
      "cell_type": "code",
      "execution_count": 9,
      "metadata": {
        "colab": {
          "base_uri": "https://localhost:8080/"
        },
        "id": "Il27k8cHxICJ",
        "outputId": "a0aba6c1-4614-41f2-f81d-ab654a75f079"
      },
      "outputs": [
        {
          "name": "stdout",
          "output_type": "stream",
          "text": [
            "Epoch 1/10\n",
            "\u001b[1m15/15\u001b[0m \u001b[32m━━━━━━━━━━━━━━━━━━━━\u001b[0m\u001b[37m\u001b[0m \u001b[1m1s\u001b[0m 19ms/step - accuracy: 0.0529 - loss: 3.3058 - val_accuracy: 0.0600 - val_loss: 3.5240\n",
            "Epoch 2/10\n",
            "\u001b[1m15/15\u001b[0m \u001b[32m━━━━━━━━━━━━━━━━━━━━\u001b[0m\u001b[37m\u001b[0m \u001b[1m0s\u001b[0m 7ms/step - accuracy: 0.0616 - loss: 3.1879 - val_accuracy: 0.0400 - val_loss: 3.4100\n",
            "Epoch 3/10\n",
            "\u001b[1m15/15\u001b[0m \u001b[32m━━━━━━━━━━━━━━━━━━━━\u001b[0m\u001b[37m\u001b[0m \u001b[1m0s\u001b[0m 7ms/step - accuracy: 0.0737 - loss: 3.1228 - val_accuracy: 0.0200 - val_loss: 3.4904\n",
            "Epoch 4/10\n",
            "\u001b[1m15/15\u001b[0m \u001b[32m━━━━━━━━━━━━━━━━━━━━\u001b[0m\u001b[37m\u001b[0m \u001b[1m0s\u001b[0m 7ms/step - accuracy: 0.0921 - loss: 3.0626 - val_accuracy: 0.0600 - val_loss: 3.5088\n",
            "Epoch 5/10\n",
            "\u001b[1m15/15\u001b[0m \u001b[32m━━━━━━━━━━━━━━━━━━━━\u001b[0m\u001b[37m\u001b[0m \u001b[1m0s\u001b[0m 10ms/step - accuracy: 0.1225 - loss: 3.0092 - val_accuracy: 0.0000e+00 - val_loss: 3.5438\n",
            "Epoch 6/10\n",
            "\u001b[1m15/15\u001b[0m \u001b[32m━━━━━━━━━━━━━━━━━━━━\u001b[0m\u001b[37m\u001b[0m \u001b[1m0s\u001b[0m 8ms/step - accuracy: 0.1460 - loss: 2.9489 - val_accuracy: 0.0400 - val_loss: 3.5148\n",
            "Epoch 7/10\n",
            "\u001b[1m15/15\u001b[0m \u001b[32m━━━━━━━━━━━━━━━━━━━━\u001b[0m\u001b[37m\u001b[0m \u001b[1m0s\u001b[0m 10ms/step - accuracy: 0.1288 - loss: 2.8959 - val_accuracy: 0.0800 - val_loss: 3.5012\n",
            "Epoch 8/10\n",
            "\u001b[1m15/15\u001b[0m \u001b[32m━━━━━━━━━━━━━━━━━━━━\u001b[0m\u001b[37m\u001b[0m \u001b[1m0s\u001b[0m 7ms/step - accuracy: 0.1869 - loss: 2.8385 - val_accuracy: 0.0400 - val_loss: 3.5267\n",
            "Epoch 9/10\n",
            "\u001b[1m15/15\u001b[0m \u001b[32m━━━━━━━━━━━━━━━━━━━━\u001b[0m\u001b[37m\u001b[0m \u001b[1m0s\u001b[0m 7ms/step - accuracy: 0.1908 - loss: 2.8385 - val_accuracy: 0.0400 - val_loss: 3.5792\n",
            "Epoch 10/10\n",
            "\u001b[1m15/15\u001b[0m \u001b[32m━━━━━━━━━━━━━━━━━━━━\u001b[0m\u001b[37m\u001b[0m \u001b[1m0s\u001b[0m 7ms/step - accuracy: 0.1938 - loss: 2.7831 - val_accuracy: 0.0800 - val_loss: 3.6667\n",
            "\u001b[1m1/1\u001b[0m \u001b[32m━━━━━━━━━━━━━━━━━━━━\u001b[0m\u001b[37m\u001b[0m \u001b[1m0s\u001b[0m 81ms/step\n",
            "Predicted Character: H\n"
          ]
        }
      ],
      "source": [
        "# --------------------------\n",
        "# 4. Train Model\n",
        "# --------------------------\n",
        "model = build_char_classifier(input_dim=input_dim, num_classes=num_classes)\n",
        "model.fit(X, y, epochs=10, batch_size=32, validation_split=0.1)\n",
        "\n",
        "# --------------------------\n",
        "# 5. Prediction (example)\n",
        "# --------------------------\n",
        "def predict_character(stroke_data):\n",
        "    features = extract_features(stroke_data)\n",
        "    features = features.reshape(1, -1)\n",
        "    prediction = model.predict(features)\n",
        "    class_id = np.argmax(prediction)\n",
        "    return chr(65 + class_id)  # A-Z\n",
        "\n",
        "# Example stroke input: a simple diagonal stroke from (0,0) to (5,5)\n",
        "stroke_input = [[(0, 0, 0), (1, 1, 1), (2, 2, 2), (3, 3, 3), (4, 4, 4), (5, 5, 5)]]\n",
        "print(\"Predicted Character:\", predict_character(\"/content/a.png\"))"
      ]
    },
    {
      "cell_type": "code",
      "execution_count": 19,
      "metadata": {
        "colab": {
          "base_uri": "https://localhost:8080/"
        },
        "id": "GfU6VYQ5ylPL",
        "outputId": "7884c602-40f2-480a-c644-6d744473607d"
      },
      "outputs": [
        {
          "name": "stdout",
          "output_type": "stream",
          "text": [
            "Epoch 1/10\n",
            "\u001b[1m15/15\u001b[0m \u001b[32m━━━━━━━━━━━━━━━━━━━━\u001b[0m\u001b[37m\u001b[0m \u001b[1m2s\u001b[0m 30ms/step - accuracy: 0.0403 - loss: 3.2956 - val_accuracy: 0.0200 - val_loss: 3.5003\n",
            "Epoch 2/10\n",
            "\u001b[1m15/15\u001b[0m \u001b[32m━━━━━━━━━━━━━━━━━━━━\u001b[0m\u001b[37m\u001b[0m \u001b[1m0s\u001b[0m 11ms/step - accuracy: 0.0808 - loss: 3.1829 - val_accuracy: 0.0800 - val_loss: 3.4436\n",
            "Epoch 3/10\n",
            "\u001b[1m15/15\u001b[0m \u001b[32m━━━━━━━━━━━━━━━━━━━━\u001b[0m\u001b[37m\u001b[0m \u001b[1m0s\u001b[0m 14ms/step - accuracy: 0.0962 - loss: 3.0964 - val_accuracy: 0.0200 - val_loss: 3.4713\n",
            "Epoch 4/10\n",
            "\u001b[1m15/15\u001b[0m \u001b[32m━━━━━━━━━━━━━━━━━━━━\u001b[0m\u001b[37m\u001b[0m \u001b[1m0s\u001b[0m 14ms/step - accuracy: 0.1244 - loss: 3.0158 - val_accuracy: 0.0600 - val_loss: 3.5006\n",
            "Epoch 5/10\n",
            "\u001b[1m15/15\u001b[0m \u001b[32m━━━━━━━━━━━━━━━━━━━━\u001b[0m\u001b[37m\u001b[0m \u001b[1m0s\u001b[0m 12ms/step - accuracy: 0.1435 - loss: 2.9774 - val_accuracy: 0.0400 - val_loss: 3.4849\n",
            "Epoch 6/10\n",
            "\u001b[1m15/15\u001b[0m \u001b[32m━━━━━━━━━━━━━━━━━━━━\u001b[0m\u001b[37m\u001b[0m \u001b[1m0s\u001b[0m 9ms/step - accuracy: 0.1805 - loss: 2.9197 - val_accuracy: 0.0400 - val_loss: 3.5395\n",
            "Epoch 7/10\n",
            "\u001b[1m15/15\u001b[0m \u001b[32m━━━━━━━━━━━━━━━━━━━━\u001b[0m\u001b[37m\u001b[0m \u001b[1m0s\u001b[0m 7ms/step - accuracy: 0.1875 - loss: 2.8629 - val_accuracy: 0.0400 - val_loss: 3.5718\n",
            "Epoch 8/10\n",
            "\u001b[1m15/15\u001b[0m \u001b[32m━━━━━━━━━━━━━━━━━━━━\u001b[0m\u001b[37m\u001b[0m \u001b[1m0s\u001b[0m 7ms/step - accuracy: 0.1434 - loss: 2.8598 - val_accuracy: 0.0400 - val_loss: 3.5392\n",
            "Epoch 9/10\n",
            "\u001b[1m15/15\u001b[0m \u001b[32m━━━━━━━━━━━━━━━━━━━━\u001b[0m\u001b[37m\u001b[0m \u001b[1m0s\u001b[0m 8ms/step - accuracy: 0.2186 - loss: 2.7895 - val_accuracy: 0.0600 - val_loss: 3.5985\n",
            "Epoch 10/10\n",
            "\u001b[1m15/15\u001b[0m \u001b[32m━━━━━━━━━━━━━━━━━━━━\u001b[0m\u001b[37m\u001b[0m \u001b[1m0s\u001b[0m 7ms/step - accuracy: 0.1760 - loss: 2.7876 - val_accuracy: 0.0400 - val_loss: 3.6310\n",
            "\u001b[1m1/1\u001b[0m \u001b[32m━━━━━━━━━━━━━━━━━━━━\u001b[0m\u001b[37m\u001b[0m \u001b[1m0s\u001b[0m 66ms/step\n",
            "Predicted Character: K\n"
          ]
        }
      ],
      "source": [
        "# --------------------------\n",
        "# 4. Train Model\n",
        "# --------------------------\n",
        "model = build_char_classifier(input_dim=input_dim, num_classes=num_classes)\n",
        "model.fit(X, y, epochs=10, batch_size=32, validation_split=0.1)\n",
        "\n",
        "# --------------------------\n",
        "# 5. Prediction (example)\n",
        "# --------------------------\n",
        "def predict_character(stroke_data):\n",
        "    features = extract_features(stroke_data)\n",
        "    features = features.reshape(1, -1)\n",
        "    prediction = model.predict(features)\n",
        "    class_id = np.argmax(prediction)\n",
        "    return chr(65 + class_id)  # A-Z\n",
        "\n",
        "# Example stroke input: a simple diagonal stroke from (0,0) to (5,5)\n",
        "stroke_input = [[(0, 0, 0), (1, 1, 1), (2, 2, 2), (3, 3, 3), (4, 4, 4), (5, 5, 5)]]\n",
        "print(\"Predicted Character:\", predict_character(\"/content/k.jpg\"))"
      ]
    },
    {
      "cell_type": "code",
      "execution_count": null,
      "metadata": {
        "id": "lpzrxwMzyz4E"
      },
      "outputs": [],
      "source": []
    }
  ],
  "metadata": {
    "colab": {
      "provenance": []
    },
    "kernelspec": {
      "display_name": "Python 3",
      "name": "python3"
    },
    "language_info": {
      "name": "python"
    }
  },
  "nbformat": 4,
  "nbformat_minor": 0
}
